{
 "cells": [
  {
   "cell_type": "markdown",
   "source": [
    "# FCS Lab 3 - MD5, Rainbow Tables"
   ],
   "metadata": {}
  },
  {
   "cell_type": "markdown",
   "source": [
    "* Name(s): Shoham Chakraborty\n",
    "* Student ID(s): 1004351"
   ],
   "metadata": {}
  },
  {
   "cell_type": "markdown",
   "source": [
    "## Part I: Hashing Using MD5\n",
    "\n",
    "* How does the length of the hash correspond to the input string?"
   ],
   "metadata": {}
  },
  {
   "cell_type": "markdown",
   "source": [
    "The length of the output is fixed and does not change with the length of the input."
   ],
   "metadata": {}
  },
  {
   "cell_type": "markdown",
   "source": [
    "* Are there any visible correlations between the hash and the input string?"
   ],
   "metadata": {}
  },
  {
   "cell_type": "markdown",
   "source": [
    "No."
   ],
   "metadata": {}
  },
  {
   "cell_type": "markdown",
   "source": [
    "* What are the issues related to the cryptographic weakness of MD5?"
   ],
   "metadata": {}
  },
  {
   "cell_type": "markdown",
   "source": [
    "MD5 is too fast and hence it is really easy to brute force a solution to the hash."
   ],
   "metadata": {}
  },
  {
   "cell_type": "markdown",
   "source": [
    "## Part II: Break Hashes with Brute Force\n",
    "\n",
    "* How much time did you take in total?"
   ],
   "metadata": {}
  },
  {
   "cell_type": "markdown",
   "source": [
    "52 seconds."
   ],
   "metadata": {}
  },
  {
   "cell_type": "markdown",
   "source": [
    "* How much time does it take to crack each string, on average?"
   ],
   "metadata": {}
  },
  {
   "cell_type": "markdown",
   "source": [
    "About 4-5 seconds."
   ],
   "metadata": {}
  },
  {
   "cell_type": "markdown",
   "source": [
    "* Is it possible to amortize (gradually write off the initial cost of) the brute forcing attempts?"
   ],
   "metadata": {}
  },
  {
   "cell_type": "markdown",
   "source": [
    "Yes, if we store the plaintext and their corresponding hashes in a lookup table, then we can do a O(1) lookup to find the plaintext of a given hash."
   ],
   "metadata": {}
  },
  {
   "cell_type": "markdown",
   "source": [
    "## Part III: Creating Rainbow Tables\n",
    "\n",
    "* Is rcrack faster/slower than your script ex2.py? By how much faster/slower is it?"
   ],
   "metadata": {}
  },
  {
   "cell_type": "markdown",
   "source": [
    "rcrack is much faster, it only takes 4 seconds."
   ],
   "metadata": {}
  },
  {
   "cell_type": "markdown",
   "source": [
    "* Do you observe any advantages or disadvantages of using rainbowcrack?"
   ],
   "metadata": {}
  },
  {
   "cell_type": "markdown",
   "source": [
    "Advantages of rainbow crack are that it is much faster to crack the hash, however the disadvantage is that we have to precompute the rainbow tables. This might be a limiting factor when we don't know the constraints of the plaintext and when the length is much longer."
   ],
   "metadata": {}
  },
  {
   "cell_type": "markdown",
   "source": [
    "## Part IV: Salt\n",
    "\n",
    "* What is the observed differences between your ease of cracking the salted vs the unsalted plaintexts?"
   ],
   "metadata": {}
  },
  {
   "cell_type": "markdown",
   "source": [
    "Cracking the salted hashes are marginally slower, however generating the rainbow table takes a lot longer."
   ],
   "metadata": {}
  },
  {
   "cell_type": "markdown",
   "source": [
    "* Report the difference in time observed to crack."
   ],
   "metadata": {}
  },
  {
   "cell_type": "markdown",
   "source": [
    "1s"
   ],
   "metadata": {}
  },
  {
   "cell_type": "markdown",
   "source": [
    "* Explain any differences between salted and non salted rcrack strategies."
   ],
   "metadata": {}
  },
  {
   "cell_type": "markdown",
   "source": [
    "The commands are the same other than an increase in the chain number and the length of the plain text when generating the rainbow table. "
   ],
   "metadata": {}
  },
  {
   "cell_type": "markdown",
   "source": [
    "## Part V: Hash Breaking Competition\n",
    "\n",
    "* What is the approach you used to crack the hashes"
   ],
   "metadata": {}
  },
  {
   "cell_type": "markdown",
   "source": [
    "I used the API at http://www.nitrxgen.net/md5db/ which is a \"look-up tool for typical unsalted MD5 cryptographic hashes\". Their database contains 1.1+ trillion entries, which means I did not have to spend time generating a (inferior) rainbow table and searching through it since someone had already done it before me."
   ],
   "metadata": {}
  },
  {
   "cell_type": "markdown",
   "source": [
    "* How you decided or designed your approach"
   ],
   "metadata": {}
  },
  {
   "cell_type": "markdown",
   "source": [
    "Generating the rainbow table for such a large range of values and then searching through them for solutions is both time and computationally intensive. People on the internet have already done the computation for us, so it is faster to use lookup tables available online."
   ],
   "metadata": {}
  },
  {
   "cell_type": "markdown",
   "source": [
    "* Main challenges and limitations of your approach"
   ],
   "metadata": {}
  },
  {
   "cell_type": "markdown",
   "source": [
    "The major limitation of this approach is that I am powerless do anything to crack hashes that are not in the lookup table since that would require me to create my own lookup tables which is time and computationally intensive."
   ],
   "metadata": {}
  },
  {
   "cell_type": "markdown",
   "source": [
    "* How many hashes did you manage to crack?"
   ],
   "metadata": {}
  },
  {
   "cell_type": "markdown",
   "source": [
    "145."
   ],
   "metadata": {}
  }
 ],
 "metadata": {
  "kernelspec": {
   "name": "python3",
   "display_name": "Python 3.9.7 64-bit"
  },
  "language_info": {
   "codemirror_mode": {
    "name": "ipython",
    "version": 3
   },
   "file_extension": ".py",
   "mimetype": "text/x-python",
   "name": "python",
   "nbconvert_exporter": "python",
   "pygments_lexer": "ipython3",
   "version": "3.9.7"
  },
  "interpreter": {
   "hash": "e7370f93d1d0cde622a1f8e1c04877d8463912d04d973331ad4851f04de6915a"
  }
 },
 "nbformat": 4,
 "nbformat_minor": 5
}