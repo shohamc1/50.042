{
 "cells": [
  {
   "cell_type": "markdown",
   "source": [
    "## FCS Lab 2 Submission Report"
   ],
   "metadata": {}
  },
  {
   "cell_type": "markdown",
   "source": [
    "* Name of Student(s): Shoham Chakraborty\r\n",
    "* Student ID(s): 1004351"
   ],
   "metadata": {}
  },
  {
   "cell_type": "code",
   "execution_count": 2,
   "source": [
    "import base64\r\n",
    "import requests\r\n",
    "def XOR(a, b):\r\n",
    "    r = b\"\"\r\n",
    "    for x, y in zip(a, b):\r\n",
    "        r += (x ^ y).to_bytes(1, \"big\")\r\n",
    "    return r\r\n",
    "class Client:\r\n",
    "    def __init__(self, endpoint, uid):\r\n",
    "        self.endpoint = endpoint\r\n",
    "        self.uid = str(uid).lower().strip()\r\n",
    "    def post(self, url, data=None):\r\n",
    "        r = requests.post(url, json=data).json()\r\n",
    "        if not r[\"success\"]:\r\n",
    "            print(\"Warning: something might be wrong with the server\")\r\n",
    "            print(\"If you don't think is your mistake, please report it!\")\r\n",
    "        return r\r\n",
    "    def get_story_cipher(self):\r\n",
    "        url = self.endpoint+\"/story\"\r\n",
    "        return requests.get(url).json()\r\n",
    "    def post_story_plaintext(self, solution):\r\n",
    "        url = self.endpoint+\"/story\"\r\n",
    "        solution = str(solution).lower().strip()\r\n",
    "        data = {\"solution\":solution}\r\n",
    "        return self.post(url, data)\r\n",
    "    def get_score_msg_cipher(self):\r\n",
    "        url = self.endpoint+\"/score\"\r\n",
    "        data = {\"request\":\"get_msg\", \"id\":self.uid}\r\n",
    "        return self.post(url, data)\r\n",
    "    def submit_score_msg_cipher(self, cipher_base64):\r\n",
    "        url = self.endpoint+\"/score\"\r\n",
    "        data = {\"request\":\"decrypt_msg\", \"id\":self.uid, \"cipher\": cipher_base64}\r\n",
    "        return self.post(url, data)\r\n",
    "    def base64_encode_bytes(self, byte_array):\r\n",
    "        return str(base64.b64encode(byte_array))[2:-1]\r\n",
    "    def base64_decode_bytes(self, base64_string):\r\n",
    "        return base64.b64decode(base64_string)"
   ],
   "outputs": [],
   "metadata": {}
  },
  {
   "cell_type": "code",
   "execution_count": 3,
   "source": [
    "endpoint = \"http://35.197.130.121/\"\r\n",
    "uid = \"ayylmao123\"\r\n",
    "\r\n",
    "client = Client(endpoint, uid)"
   ],
   "outputs": [],
   "metadata": {}
  },
  {
   "cell_type": "markdown",
   "source": [
    "## Part I: Story - Substitution Cipher\n",
    "\n",
    "1. GET the cipher for the story\n",
    "2. Crack this with frequency analysis\n",
    "3. POST it back to the server to check (example is provided below)\n",
    "\n",
    "If the response contains `'solution_correct': 'correct'`, then your decryption is correct. Otherwise, a distance will be provided to let you know how far off you are. If you are off by a tiny bit (say, 1 or 2), you can check things like line-ending, extra space at start/end etc. The verification is not case sensitive."
   ],
   "metadata": {}
  },
  {
   "cell_type": "code",
   "execution_count": 4,
   "source": [
    "story_cipher = client.get_story_cipher()[\"cipher\"]\r\n",
    "print(\"story_cipher:\", story_cipher[:50], \"...\")"
   ],
   "outputs": [
    {
     "output_type": "stream",
     "name": "stdout",
     "text": [
      "story_cipher: MXQJ YI IOCFXEWUQH. VEH Q BEEEEEDW, BEEEDW JYCU Y  ...\n"
     ]
    }
   ],
   "metadata": {}
  },
  {
   "cell_type": "code",
   "execution_count": 5,
   "source": [
    "# we convert the cipher using a dictionary\r\n",
    "conversion_dictionary = {\r\n",
    "    \"A\": \"k\",\r\n",
    "    \"B\": \"l\",\r\n",
    "    \"C\": \"m\",\r\n",
    "    \"D\": \"n\",\r\n",
    "    \"E\": \"o\",\r\n",
    "    \"F\": \"p\",\r\n",
    "    \"G\": \"q\",\r\n",
    "    \"H\": \"r\",\r\n",
    "    \"I\": \"s\",\r\n",
    "    \"J\": \"t\",\r\n",
    "    \"K\": \"u\",\r\n",
    "    \"L\": \"v\",\r\n",
    "    \"M\": \"w\",\r\n",
    "    \"N\": \"x\",\r\n",
    "    \"O\": \"y\",\r\n",
    "    \"P\": \"z\",\r\n",
    "    \"Q\": \"a\",\r\n",
    "    \"R\": \"b\",\r\n",
    "    \"S\": \"c\",\r\n",
    "    \"T\": \"d\",\r\n",
    "    \"U\": \"e\",\r\n",
    "    \"V\": \"f\",\r\n",
    "    \"W\": \"g\",\r\n",
    "    \"X\": \"h\",\r\n",
    "    \"Y\": \"i\",\r\n",
    "    \"Z\": \"j\",\r\n",
    "}\r\n",
    "\r\n",
    "decrypted = \"\"\r\n",
    "for ch in story_cipher:\r\n",
    "    try:\r\n",
    "        decrypted += conversion_dictionary[ch]\r\n",
    "    except KeyError:\r\n",
    "        decrypted += ch # puncuation\r\n",
    "        # print(f\"Dictionary entry does not exist for character {ch}\")\r\n",
    "\r\n",
    "\r\n",
    "print(decrypted)"
   ],
   "outputs": [
    {
     "output_type": "stream",
     "name": "stdout",
     "text": [
      "what is symphogear. for a looooong, looong time i have never bothered engaging myself in this franchise. i did not understand what it is. now that the show is having its last season, i decided to finally give in, give symphogear a try from the very start. i wondered how have i missed out on the anime of the decade all these years. i honestly did not know what to expect watching the very first episode knowing absolutely nothing about the franchise. the show toyed with my emotions so much in that opening setpiece. it ended up being one of the most life affirming shows out there. a stunning display of idiocy and action that is both charming and captivating. it is confident in its strengths and parades its weaknesses proudly, a show that is both all style and all substance. oh but most of all, it is a true roller coaster of emotions, and i do not use that term lightly. i laughed, i cried, i got frustrated at the ineptitude and stupidity of both the characters and the creators, but most of all, i loved. when the curse of balal fell in place, songs still managed to bridge that gap and connect us all together. the one emotion the show never fails to deliver is hype. the surge of adrenaline and endorphins and all the chemicals in your brain whenever something awesome is happening onscreen is a rare treat in most other anime, but a constant occurrence in this show. the hype does occasionally fail to deliver, the higher expectations can sometimes be oh too much, but still, when you hear hibiki scream, you know she means business and join her in song. and those songs are precisely what keeps symphogear in the minds of many all this while. i am not an idol anime person, i despise most idol anime and yet. and yet. the moment i heard the songs for the first time right there on the idol concert, i was enthralled. i knew that regardless of how the show turned out, it would have great music. covering many genres, the show has a diverse palette of songs ranging from celtic rock to enka inspired tracks, there is no shortage of variety. yes there are songs that do not work well, but the ones that resonate far outweigh the occasional bad ones.  symphogear has to be taken in as a complete package. it truly is more than the sum of its parts. looking back, yes i can agree on all the flaws, some major, the show has had. yet in spite of it all, across seven years and five seasons. it is why i ultimately decided in awarding it with one of my rare nines. something this special, this inspirational, this long lasting is truly an experience to behold. for better for worse, it is the definitive anime that represents the decade. it may not have ended in the way i wanted, and it may not have that one kiss i was looking for, but it filled the hole in my heart, and with it ending, the gaping wound in my soul may never heal. maybe, for now, i will say that the show ended well. it was not perverted into a zombie franchise like others, nor did it stumble hard in its final moment and struggle to reclaim its past glory. it had shortcomings, but thinking back, the journey to the end has been a satisfying one throughout. so what is symphogear. it is a hybrid idol anime. it is an anime about fisting. it is five seasons and seven years long and has captivated the hearts of many. but most importantly, it is believing in the song of your heart.\n"
     ]
    }
   ],
   "metadata": {}
  },
  {
   "cell_type": "code",
   "execution_count": 6,
   "source": [
    "# example posting a string back to the server\r\n",
    "client.post_story_plaintext(decrypted)\r\n",
    "# a distance is provided for you to check how close you are"
   ],
   "outputs": [
    {
     "output_type": "execute_result",
     "data": {
      "text/plain": [
       "{'distance': '0', 'solution_correct': 'correct', 'success': True}"
      ]
     },
     "metadata": {},
     "execution_count": 6
    }
   ],
   "metadata": {}
  },
  {
   "cell_type": "code",
   "execution_count": 7,
   "source": [
    "# you can also load solution from a text file\r\n",
    "with open(\"./solution.txt\", \"r\") as file:\r\n",
    "    PART_1_SOLUTION = file.read()\r\n",
    "part_1_result = client.post_story_plaintext(PART_1_SOLUTION)\r\n",
    "print(part_1_result)\r\n",
    "assert part_1_result[\"solution_correct\"] == \"correct\""
   ],
   "outputs": [
    {
     "output_type": "stream",
     "name": "stdout",
     "text": [
      "{'distance': '0', 'solution_correct': 'correct', 'success': True}\n"
     ]
    }
   ],
   "metadata": {}
  },
  {
   "cell_type": "markdown",
   "source": [
    "## Part II: Changing the Score Message - OTP"
   ],
   "metadata": {}
  },
  {
   "cell_type": "code",
   "execution_count": 8,
   "source": [
    "response = client.get_score_msg_cipher()\r\n",
    "print(response)"
   ],
   "outputs": [
    {
     "output_type": "stream",
     "name": "stdout",
     "text": [
      "{'cipher': 'WzO3XfKl1Ln8zTzUVu3iRO2NCZeHnaWRZfcOybrT8e6DnfNJUoJdpNOUAuEnaZ8=', 'hint': 'it is a OTP, you will not be able to guess it, find a way to edit the message without the OTP key', 'success': True}\n"
     ]
    }
   ],
   "metadata": {}
  },
  {
   "cell_type": "code",
   "execution_count": 9,
   "source": [
    "cipher:bytearray = client.base64_decode_bytes(response[\"cipher\"])\r\n",
    "print(cipher)"
   ],
   "outputs": [
    {
     "output_type": "stream",
     "name": "stdout",
     "text": [
      "b\"[3\\xb7]\\xf2\\xa5\\xd4\\xb9\\xfc\\xcd<\\xd4V\\xed\\xe2D\\xed\\x8d\\t\\x97\\x87\\x9d\\xa5\\x91e\\xf7\\x0e\\xc9\\xba\\xd3\\xf1\\xee\\x83\\x9d\\xf3IR\\x82]\\xa4\\xd3\\x94\\x02\\xe1'i\\x9f\"\n"
     ]
    }
   ],
   "metadata": {}
  },
  {
   "cell_type": "code",
   "execution_count": 10,
   "source": [
    "encoded_cipher = client.base64_encode_bytes(cipher)\r\n",
    "client.submit_score_msg_cipher(encoded_cipher)"
   ],
   "outputs": [
    {
     "output_type": "execute_result",
     "data": {
      "text/plain": [
       "{'plaintext': 'Student ID ayylmao123 gets a total of 0 points!',\n",
       " 'success': True}"
      ]
     },
     "metadata": {},
     "execution_count": 10
    }
   ],
   "metadata": {}
  },
  {
   "cell_type": "code",
   "execution_count": 11,
   "source": [
    "def hax():\r\n",
    "    m = bytearray.fromhex(f\"Student ID {uid} gets a total of 0 points!\".encode().hex())\r\n",
    "    m1 = bytearray.fromhex(f\"Student ID {uid} gets a total of 9 points!\".encode().hex())\r\n",
    "\r\n",
    "    mask = XOR(m, m1)\r\n",
    "    return XOR(cipher, mask)"
   ],
   "outputs": [],
   "metadata": {}
  },
  {
   "cell_type": "code",
   "execution_count": 12,
   "source": [
    "new_cipher = hax()\r\n",
    "encoded_new_cipher = client.base64_encode_bytes(new_cipher)\r\n",
    "client.submit_score_msg_cipher(encoded_new_cipher)"
   ],
   "outputs": [
    {
     "output_type": "execute_result",
     "data": {
      "text/plain": [
       "{'plaintext': 'Student ID ayylmao123 gets a total of 9 points!',\n",
       " 'success': True}"
      ]
     },
     "metadata": {},
     "execution_count": 12
    }
   ],
   "metadata": {}
  }
 ],
 "metadata": {
  "kernelspec": {
   "name": "python3",
   "display_name": "Python 3.8.7 64-bit"
  },
  "language_info": {
   "codemirror_mode": {
    "name": "ipython",
    "version": 3
   },
   "file_extension": ".py",
   "mimetype": "text/x-python",
   "name": "python",
   "nbconvert_exporter": "python",
   "pygments_lexer": "ipython3",
   "version": "3.8.7"
  },
  "interpreter": {
   "hash": "246f02452b91dc41603f82ce1d35e318cc90730f507b880698704902d441731d"
  }
 },
 "nbformat": 4,
 "nbformat_minor": 5
}